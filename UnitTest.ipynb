{
  "nbformat": 4,
  "nbformat_minor": 0,
  "metadata": {
    "colab": {
      "provenance": []
    },
    "kernelspec": {
      "name": "python3",
      "display_name": "Python 3"
    },
    "language_info": {
      "name": "python"
    }
  },
  "cells": [
    {
      "cell_type": "code",
      "execution_count": null,
      "metadata": {
        "id": "7dWMtoRFAfaI"
      },
      "outputs": [],
      "source": [
        "import unittest\n",
        "\n",
        "from cover_letter import generate_cover_letter\n",
        "\n",
        "class TestCoverLetter(unittest.TestCase):\n",
        "\n",
        "    def test_generate_cover_letter(self):\n",
        "        job_title = \"Software Engineer\"\n",
        "        company_name = \"Google\"\n",
        "        recipient_name = \"John Smith\"\n",
        "        skills = [\"Python\", \"Java\", \"SQL\"]\n",
        "        experience = [\"3 years of experience in software development\"]\n",
        "\n",
        "        cover_letter = generate_cover_letter(job_title, company_name, recipient_name, skills, experience)\n",
        "\n",
        "        self.assertIn(job_title, cover_letter)\n",
        "        self.assertIn(company_name, cover_letter)\n",
        "        self.assertIn(recipient_name, cover_letter)\n",
        "        self.assertIn(\"Python\", cover_letter)\n",
        "        self.assertIn(\"Java\", cover_letter)\n",
        "        self.assertIn(\"SQL\", cover_letter)\n",
        "        self.assertIn(\"3 years of experience in software development\", cover_letter)\n",
        "\n",
        "if __name__ == \"__main__\":\n",
        "    unittest.main()\n"
      ]
    }
  ]
}